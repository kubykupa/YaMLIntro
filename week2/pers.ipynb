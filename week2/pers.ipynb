{
 "cells": [
  {
   "cell_type": "code",
   "execution_count": 3,
   "metadata": {
    "collapsed": true
   },
   "outputs": [],
   "source": [
    "import pandas as pd\n",
    "import numpy as np\n",
    "from sklearn.preprocessing import StandardScaler\n",
    "from sklearn.linear_model import Perceptron\n",
    "from sklearn.metrics import accuracy_score"
   ]
  },
  {
   "cell_type": "code",
   "execution_count": 26,
   "metadata": {
    "collapsed": true
   },
   "outputs": [],
   "source": [
    "def save(name, data):\n",
    "    print \"save\", name, \":\", data\n",
    "    with open(name, 'w') as f:\n",
    "        f.write(data)\n",
    "        \n",
    "def data_target(csv):\n",
    "    return csv.ix[:, 1:], csv.ix[:, 0]"
   ]
  },
  {
   "cell_type": "code",
   "execution_count": 38,
   "metadata": {
    "collapsed": false
   },
   "outputs": [],
   "source": [
    "train = pd.read_csv('perceptron-train.csv', header=None)\n",
    "test = pd.read_csv('perceptron-test.csv', header=None)\n",
    "X, y = data_target(train)\n",
    "tX, ty = data_target(test) "
   ]
  },
  {
   "cell_type": "code",
   "execution_count": 45,
   "metadata": {
    "collapsed": false
   },
   "outputs": [],
   "source": [
    "clf = Perceptron(random_state=241)\n",
    "clf.fit(X, y)\n",
    "pred = clf.predict(tX)\n",
    "a, s = accuracy_score(ty, pred), clf.score(tX, ty)"
   ]
  },
  {
   "cell_type": "code",
   "execution_count": 41,
   "metadata": {
    "collapsed": true
   },
   "outputs": [],
   "source": [
    "scaler = StandardScaler()\n",
    "X_train_scaled = scaler.fit_transform(X)\n",
    "X_test_scaled = scaler.transform(tX)"
   ]
  },
  {
   "cell_type": "code",
   "execution_count": 44,
   "metadata": {
    "collapsed": false
   },
   "outputs": [],
   "source": [
    "p = Perceptron(random_state=241)\n",
    "p.fit(X_train_scaled, y)\n",
    "res = p.predict(X_test_scaled)\n",
    "A,S = accuracy_score(ty, res), p.score(X_test_scaled, ty)"
   ]
  },
  {
   "cell_type": "code",
   "execution_count": 47,
   "metadata": {
    "collapsed": false
   },
   "outputs": [
    {
     "name": "stdout",
     "output_type": "stream",
     "text": [
      "save p2 : 0.57\n"
     ]
    }
   ],
   "source": [
    "save(\"p2\", \"%.2f\" % (A - a))"
   ]
  }
 ],
 "metadata": {
  "kernelspec": {
   "display_name": "Python 2",
   "language": "python",
   "name": "python2"
  },
  "language_info": {
   "codemirror_mode": {
    "name": "ipython",
    "version": 2
   },
   "file_extension": ".py",
   "mimetype": "text/x-python",
   "name": "python",
   "nbconvert_exporter": "python",
   "pygments_lexer": "ipython2",
   "version": "2.7.10"
  }
 },
 "nbformat": 4,
 "nbformat_minor": 0
}
