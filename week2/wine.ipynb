{
 "cells": [
  {
   "cell_type": "code",
   "execution_count": 17,
   "metadata": {
    "collapsed": true
   },
   "outputs": [],
   "source": [
    "import pandas as pd\n",
    "from sklearn.neighbors import KNeighborsClassifier\n",
    "from sklearn.cross_validation import KFold, cross_val_score\n",
    "from sklearn.preprocessing import scale"
   ]
  },
  {
   "cell_type": "code",
   "execution_count": 69,
   "metadata": {
    "collapsed": true
   },
   "outputs": [],
   "source": [
    "def save(name, data):\n",
    "    print \"save\", name, \":\", data\n",
    "    with open(name, 'w') as f:\n",
    "        f.write(data)"
   ]
  },
  {
   "cell_type": "code",
   "execution_count": 20,
   "metadata": {
    "collapsed": false
   },
   "outputs": [
    {
     "data": {
      "text/html": [
       "<div>\n",
       "<table border=\"1\" class=\"dataframe\">\n",
       "  <thead>\n",
       "    <tr style=\"text-align: right;\">\n",
       "      <th></th>\n",
       "      <th>Class</th>\n",
       "      <th>Alcohol</th>\n",
       "      <th>Malic</th>\n",
       "      <th>Ash</th>\n",
       "      <th>Alcalinity</th>\n",
       "      <th>Magnesium</th>\n",
       "      <th>Phenols</th>\n",
       "      <th>Flavanoids</th>\n",
       "      <th>Nonflavanoid</th>\n",
       "      <th>Proant</th>\n",
       "      <th>Color</th>\n",
       "      <th>Hue</th>\n",
       "      <th>OD280/OD315</th>\n",
       "      <th>Proline</th>\n",
       "    </tr>\n",
       "  </thead>\n",
       "  <tbody>\n",
       "    <tr>\n",
       "      <th>0</th>\n",
       "      <td>1</td>\n",
       "      <td>14.23</td>\n",
       "      <td>1.71</td>\n",
       "      <td>2.43</td>\n",
       "      <td>15.6</td>\n",
       "      <td>127</td>\n",
       "      <td>2.80</td>\n",
       "      <td>3.06</td>\n",
       "      <td>0.28</td>\n",
       "      <td>2.29</td>\n",
       "      <td>5.64</td>\n",
       "      <td>1.04</td>\n",
       "      <td>3.92</td>\n",
       "      <td>1065</td>\n",
       "    </tr>\n",
       "    <tr>\n",
       "      <th>1</th>\n",
       "      <td>1</td>\n",
       "      <td>13.20</td>\n",
       "      <td>1.78</td>\n",
       "      <td>2.14</td>\n",
       "      <td>11.2</td>\n",
       "      <td>100</td>\n",
       "      <td>2.65</td>\n",
       "      <td>2.76</td>\n",
       "      <td>0.26</td>\n",
       "      <td>1.28</td>\n",
       "      <td>4.38</td>\n",
       "      <td>1.05</td>\n",
       "      <td>3.40</td>\n",
       "      <td>1050</td>\n",
       "    </tr>\n",
       "    <tr>\n",
       "      <th>2</th>\n",
       "      <td>1</td>\n",
       "      <td>13.16</td>\n",
       "      <td>2.36</td>\n",
       "      <td>2.67</td>\n",
       "      <td>18.6</td>\n",
       "      <td>101</td>\n",
       "      <td>2.80</td>\n",
       "      <td>3.24</td>\n",
       "      <td>0.30</td>\n",
       "      <td>2.81</td>\n",
       "      <td>5.68</td>\n",
       "      <td>1.03</td>\n",
       "      <td>3.17</td>\n",
       "      <td>1185</td>\n",
       "    </tr>\n",
       "    <tr>\n",
       "      <th>3</th>\n",
       "      <td>1</td>\n",
       "      <td>14.37</td>\n",
       "      <td>1.95</td>\n",
       "      <td>2.50</td>\n",
       "      <td>16.8</td>\n",
       "      <td>113</td>\n",
       "      <td>3.85</td>\n",
       "      <td>3.49</td>\n",
       "      <td>0.24</td>\n",
       "      <td>2.18</td>\n",
       "      <td>7.80</td>\n",
       "      <td>0.86</td>\n",
       "      <td>3.45</td>\n",
       "      <td>1480</td>\n",
       "    </tr>\n",
       "    <tr>\n",
       "      <th>4</th>\n",
       "      <td>1</td>\n",
       "      <td>13.24</td>\n",
       "      <td>2.59</td>\n",
       "      <td>2.87</td>\n",
       "      <td>21.0</td>\n",
       "      <td>118</td>\n",
       "      <td>2.80</td>\n",
       "      <td>2.69</td>\n",
       "      <td>0.39</td>\n",
       "      <td>1.82</td>\n",
       "      <td>4.32</td>\n",
       "      <td>1.04</td>\n",
       "      <td>2.93</td>\n",
       "      <td>735</td>\n",
       "    </tr>\n",
       "    <tr>\n",
       "      <th>5</th>\n",
       "      <td>1</td>\n",
       "      <td>14.20</td>\n",
       "      <td>1.76</td>\n",
       "      <td>2.45</td>\n",
       "      <td>15.2</td>\n",
       "      <td>112</td>\n",
       "      <td>3.27</td>\n",
       "      <td>3.39</td>\n",
       "      <td>0.34</td>\n",
       "      <td>1.97</td>\n",
       "      <td>6.75</td>\n",
       "      <td>1.05</td>\n",
       "      <td>2.85</td>\n",
       "      <td>1450</td>\n",
       "    </tr>\n",
       "    <tr>\n",
       "      <th>6</th>\n",
       "      <td>1</td>\n",
       "      <td>14.39</td>\n",
       "      <td>1.87</td>\n",
       "      <td>2.45</td>\n",
       "      <td>14.6</td>\n",
       "      <td>96</td>\n",
       "      <td>2.50</td>\n",
       "      <td>2.52</td>\n",
       "      <td>0.30</td>\n",
       "      <td>1.98</td>\n",
       "      <td>5.25</td>\n",
       "      <td>1.02</td>\n",
       "      <td>3.58</td>\n",
       "      <td>1290</td>\n",
       "    </tr>\n",
       "    <tr>\n",
       "      <th>7</th>\n",
       "      <td>1</td>\n",
       "      <td>14.06</td>\n",
       "      <td>2.15</td>\n",
       "      <td>2.61</td>\n",
       "      <td>17.6</td>\n",
       "      <td>121</td>\n",
       "      <td>2.60</td>\n",
       "      <td>2.51</td>\n",
       "      <td>0.31</td>\n",
       "      <td>1.25</td>\n",
       "      <td>5.05</td>\n",
       "      <td>1.06</td>\n",
       "      <td>3.58</td>\n",
       "      <td>1295</td>\n",
       "    </tr>\n",
       "    <tr>\n",
       "      <th>8</th>\n",
       "      <td>1</td>\n",
       "      <td>14.83</td>\n",
       "      <td>1.64</td>\n",
       "      <td>2.17</td>\n",
       "      <td>14.0</td>\n",
       "      <td>97</td>\n",
       "      <td>2.80</td>\n",
       "      <td>2.98</td>\n",
       "      <td>0.29</td>\n",
       "      <td>1.98</td>\n",
       "      <td>5.20</td>\n",
       "      <td>1.08</td>\n",
       "      <td>2.85</td>\n",
       "      <td>1045</td>\n",
       "    </tr>\n",
       "    <tr>\n",
       "      <th>9</th>\n",
       "      <td>1</td>\n",
       "      <td>13.86</td>\n",
       "      <td>1.35</td>\n",
       "      <td>2.27</td>\n",
       "      <td>16.0</td>\n",
       "      <td>98</td>\n",
       "      <td>2.98</td>\n",
       "      <td>3.15</td>\n",
       "      <td>0.22</td>\n",
       "      <td>1.85</td>\n",
       "      <td>7.22</td>\n",
       "      <td>1.01</td>\n",
       "      <td>3.55</td>\n",
       "      <td>1045</td>\n",
       "    </tr>\n",
       "  </tbody>\n",
       "</table>\n",
       "</div>"
      ],
      "text/plain": [
       "   Class  Alcohol  Malic   Ash  Alcalinity  Magnesium  Phenols  Flavanoids  \\\n",
       "0      1    14.23   1.71  2.43        15.6        127     2.80        3.06   \n",
       "1      1    13.20   1.78  2.14        11.2        100     2.65        2.76   \n",
       "2      1    13.16   2.36  2.67        18.6        101     2.80        3.24   \n",
       "3      1    14.37   1.95  2.50        16.8        113     3.85        3.49   \n",
       "4      1    13.24   2.59  2.87        21.0        118     2.80        2.69   \n",
       "5      1    14.20   1.76  2.45        15.2        112     3.27        3.39   \n",
       "6      1    14.39   1.87  2.45        14.6         96     2.50        2.52   \n",
       "7      1    14.06   2.15  2.61        17.6        121     2.60        2.51   \n",
       "8      1    14.83   1.64  2.17        14.0         97     2.80        2.98   \n",
       "9      1    13.86   1.35  2.27        16.0         98     2.98        3.15   \n",
       "\n",
       "   Nonflavanoid  Proant  Color   Hue  OD280/OD315  Proline  \n",
       "0          0.28    2.29   5.64  1.04         3.92     1065  \n",
       "1          0.26    1.28   4.38  1.05         3.40     1050  \n",
       "2          0.30    2.81   5.68  1.03         3.17     1185  \n",
       "3          0.24    2.18   7.80  0.86         3.45     1480  \n",
       "4          0.39    1.82   4.32  1.04         2.93      735  \n",
       "5          0.34    1.97   6.75  1.05         2.85     1450  \n",
       "6          0.30    1.98   5.25  1.02         3.58     1290  \n",
       "7          0.31    1.25   5.05  1.06         3.58     1295  \n",
       "8          0.29    1.98   5.20  1.08         2.85     1045  \n",
       "9          0.22    1.85   7.22  1.01         3.55     1045  "
      ]
     },
     "execution_count": 20,
     "metadata": {},
     "output_type": "execute_result"
    }
   ],
   "source": [
    "col_names = [\n",
    "    'Class',\n",
    "    'Alcohol',\n",
    "    'Malic',\n",
    "    'Ash',\n",
    "    'Alcalinity',\n",
    "    'Magnesium',\n",
    "    'Phenols',\n",
    "    'Flavanoids',\n",
    "    'Nonflavanoid',\n",
    "    'Proant', #Proanthocyanins\n",
    "    'Color',\n",
    "    'Hue',\n",
    "    'OD280/OD315',\n",
    "    'Proline']\n",
    "wine = pd.read_csv('wine.data', delimiter=',', header=None, names=col_names)\n",
    "wine.head(10)"
   ]
  },
  {
   "cell_type": "code",
   "execution_count": 56,
   "metadata": {
    "collapsed": false
   },
   "outputs": [
    {
     "data": {
      "text/plain": [
       "array([1, 2, 3])"
      ]
     },
     "execution_count": 56,
     "metadata": {},
     "output_type": "execute_result"
    }
   ],
   "source": [
    "wine.Class.unique()"
   ]
  },
  {
   "cell_type": "code",
   "execution_count": 57,
   "metadata": {
    "collapsed": false
   },
   "outputs": [],
   "source": [
    "label, data = wine.ix[:, 0], wine.ix[:, 1:]\n",
    "scaled = pd.concat([pd.DataFrame(label), pd.DataFrame(scale(data))], axis=1)"
   ]
  },
  {
   "cell_type": "code",
   "execution_count": 63,
   "metadata": {
    "collapsed": false
   },
   "outputs": [],
   "source": [
    "#src = wine\n",
    "src = scaled"
   ]
  },
  {
   "cell_type": "code",
   "execution_count": 66,
   "metadata": {
    "collapsed": false
   },
   "outputs": [],
   "source": [
    "def trainKNN(src):\n",
    "    totalN = len(src)\n",
    "    y, X = src.ix[:, 0], src.ix[:, 1:]\n",
    "    def calc(k):\n",
    "        kn = KNeighborsClassifier(n_neighbors=k)\n",
    "        kf = KFold(totalN, n_folds=5, shuffle=True, random_state=42)\n",
    "        return cross_val_score(kn, X, y, cv=kf, scoring='accuracy')\n",
    "\n",
    "    best_mean, best_k = 0, 0\n",
    "    for k in range(1,51):\n",
    "        res = calc(k)\n",
    "        m = res.mean()\n",
    "        if m > best_mean:\n",
    "            best_mean = m\n",
    "            best_k = k\n",
    "            print best_k, best_mean, res\n",
    "    return best_k, best_mean"
   ]
  },
  {
   "cell_type": "code",
   "execution_count": 76,
   "metadata": {
    "collapsed": false
   },
   "outputs": [
    {
     "name": "stdout",
     "output_type": "stream",
     "text": [
      "1 0.730476190476 [ 0.77777778  0.66666667  0.72222222  0.71428571  0.77142857]\n",
      "save 1 : 1\n",
      "save 2 : 0.73\n"
     ]
    }
   ],
   "source": [
    "k, q = trainKNN(wine)\n",
    "save(\"1\", \"%i\" % k)\n",
    "save(\"2\", \"%.2f\" % q)"
   ]
  },
  {
   "cell_type": "code",
   "execution_count": 75,
   "metadata": {
    "collapsed": false
   },
   "outputs": [
    {
     "name": "stdout",
     "output_type": "stream",
     "text": [
      "1 0.943968253968 [ 0.94444444  0.94444444  0.91666667  0.97142857  0.94285714]\n",
      "3 0.955079365079 [ 0.94444444  0.94444444  0.97222222  0.97142857  0.94285714]\n",
      "8 0.955238095238 [ 0.94444444  0.91666667  0.97222222  0.97142857  0.97142857]\n",
      "9 0.960793650794 [ 0.94444444  0.94444444  0.97222222  0.94285714  1.        ]\n",
      "11 0.960952380952 [ 0.94444444  0.94444444  0.94444444  0.97142857  1.        ]\n",
      "14 0.966349206349 [ 0.97222222  0.94444444  0.97222222  0.97142857  0.97142857]\n",
      "15 0.972063492063 [ 0.97222222  0.94444444  0.97222222  0.97142857  1.        ]\n",
      "29 0.977619047619 [ 1.          0.94444444  0.97222222  0.97142857  1.        ]\n",
      "save 3 : 29\n",
      "save 4 : 0.98\n"
     ]
    }
   ],
   "source": [
    "k, q = trainKNN(scaled)\n",
    "save(\"3\", \"%i\" % k)\n",
    "save(\"4\", \"%.2f\" % q)"
   ]
  }
 ],
 "metadata": {
  "kernelspec": {
   "display_name": "Python 2",
   "language": "python",
   "name": "python2"
  },
  "language_info": {
   "codemirror_mode": {
    "name": "ipython",
    "version": 2
   },
   "file_extension": ".py",
   "mimetype": "text/x-python",
   "name": "python",
   "nbconvert_exporter": "python",
   "pygments_lexer": "ipython2",
   "version": "2.7.10"
  }
 },
 "nbformat": 4,
 "nbformat_minor": 0
}
