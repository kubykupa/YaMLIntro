{
 "cells": [
  {
   "cell_type": "code",
   "execution_count": 35,
   "metadata": {
    "collapsed": true
   },
   "outputs": [],
   "source": [
    "import pandas as pd\n",
    "import numpy as np\n",
    "from sklearn.neighbors import KNeighborsRegressor\n",
    "from sklearn.cross_validation import KFold, cross_val_score\n",
    "from sklearn.preprocessing import scale\n",
    "from sklearn import datasets"
   ]
  },
  {
   "cell_type": "code",
   "execution_count": 36,
   "metadata": {
    "collapsed": true
   },
   "outputs": [],
   "source": [
    "def save(name, data):\n",
    "    print \"save\", name, \":\", data\n",
    "    with open(name, 'w') as f:\n",
    "        f.write(data)"
   ]
  },
  {
   "cell_type": "code",
   "execution_count": 37,
   "metadata": {
    "collapsed": false
   },
   "outputs": [],
   "source": [
    "boston = datasets.load_boston()\n",
    "X = scale(boston.data)\n",
    "y = boston.target"
   ]
  },
  {
   "cell_type": "code",
   "execution_count": 42,
   "metadata": {
    "collapsed": false
   },
   "outputs": [
    {
     "name": "stdout",
     "output_type": "stream",
     "text": [
      "1.0 -11.8785424486\n",
      "1.09045226131 -11.8443833621\n",
      "1.13567839196 -11.8369236253\n",
      "save p : 1.14\n"
     ]
    }
   ],
   "source": [
    "totalN = len(y)\n",
    "best_p, best_score = 0, -1000\n",
    "for P in np.linspace(1, 10, num = 200):\n",
    "    kn = KNeighborsRegressor(n_neighbors=5, p=P, metric='minkowski', weights='distance')\n",
    "    kf = KFold(totalN, n_folds=5, shuffle=True, random_state=42)\n",
    "    cvs = cross_val_score(kn, X, y, cv=kf, scoring='mean_squared_error')\n",
    "    score = cvs.max()\n",
    "    #print score, cvs\n",
    "    if score > best_score:\n",
    "        best_score = score\n",
    "        best_p = P\n",
    "        print best_p, best_score\n",
    "\n",
    "save(\"p\", \"%.2f\" % best_p)"
   ]
  }
 ],
 "metadata": {
  "kernelspec": {
   "display_name": "Python 2",
   "language": "python",
   "name": "python2"
  },
  "language_info": {
   "codemirror_mode": {
    "name": "ipython",
    "version": 2
   },
   "file_extension": ".py",
   "mimetype": "text/x-python",
   "name": "python",
   "nbconvert_exporter": "python",
   "pygments_lexer": "ipython2",
   "version": "2.7.10"
  }
 },
 "nbformat": 4,
 "nbformat_minor": 0
}
