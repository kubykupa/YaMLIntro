{
 "cells": [
  {
   "cell_type": "code",
   "execution_count": 21,
   "metadata": {
    "collapsed": true
   },
   "outputs": [],
   "source": [
    "import pandas as pd\n",
    "import numpy as np\n",
    "\n",
    "from sklearn.decomposition import PCA\n",
    "\n",
    "import matplotlib.pyplot as pp\n",
    "import matplotlib\n",
    "%matplotlib inline"
   ]
  },
  {
   "cell_type": "code",
   "execution_count": 116,
   "metadata": {
    "collapsed": true
   },
   "outputs": [],
   "source": [
    "def save(name, data):\n",
    "    print \"save\", name, \":\", data\n",
    "    with open(name, 'w') as f:\n",
    "        f.write(data)\n",
    "    \n",
    "def data_target(csv):\n",
    "    return csv.ix[:, 1:], csv.ix[:, 0]"
   ]
  },
  {
   "cell_type": "code",
   "execution_count": 117,
   "metadata": {
    "collapsed": false
   },
   "outputs": [
    {
     "data": {
      "text/html": [
       "<div>\n",
       "<table border=\"1\" class=\"dataframe\">\n",
       "  <thead>\n",
       "    <tr style=\"text-align: right;\">\n",
       "      <th></th>\n",
       "      <th>AXP</th>\n",
       "      <th>BA</th>\n",
       "      <th>CAT</th>\n",
       "      <th>CSCO</th>\n",
       "      <th>CVX</th>\n",
       "      <th>DD</th>\n",
       "      <th>DIS</th>\n",
       "      <th>GE</th>\n",
       "      <th>GS</th>\n",
       "      <th>HD</th>\n",
       "      <th>...</th>\n",
       "      <th>PFE</th>\n",
       "      <th>PG</th>\n",
       "      <th>T</th>\n",
       "      <th>TRV</th>\n",
       "      <th>UNH</th>\n",
       "      <th>UTX</th>\n",
       "      <th>V</th>\n",
       "      <th>VZ</th>\n",
       "      <th>WMT</th>\n",
       "      <th>XOM</th>\n",
       "    </tr>\n",
       "  </thead>\n",
       "  <tbody>\n",
       "    <tr>\n",
       "      <th>0</th>\n",
       "      <td>76.440002</td>\n",
       "      <td>117.510002</td>\n",
       "      <td>85.029999</td>\n",
       "      <td>24.270000</td>\n",
       "      <td>125.519997</td>\n",
       "      <td>59.409999</td>\n",
       "      <td>64.750000</td>\n",
       "      <td>24.280001</td>\n",
       "      <td>165.250000</td>\n",
       "      <td>75.910004</td>\n",
       "      <td>...</td>\n",
       "      <td>28.799999</td>\n",
       "      <td>79.279999</td>\n",
       "      <td>34.220001</td>\n",
       "      <td>86.379997</td>\n",
       "      <td>71.820000</td>\n",
       "      <td>109.419998</td>\n",
       "      <td>196.240005</td>\n",
       "      <td>47.980000</td>\n",
       "      <td>76.419998</td>\n",
       "      <td>87.750000</td>\n",
       "    </tr>\n",
       "    <tr>\n",
       "      <th>1</th>\n",
       "      <td>76.070000</td>\n",
       "      <td>119.000000</td>\n",
       "      <td>85.110001</td>\n",
       "      <td>24.139999</td>\n",
       "      <td>124.489998</td>\n",
       "      <td>59.319997</td>\n",
       "      <td>64.320000</td>\n",
       "      <td>24.320000</td>\n",
       "      <td>162.970001</td>\n",
       "      <td>76.040001</td>\n",
       "      <td>...</td>\n",
       "      <td>28.709999</td>\n",
       "      <td>78.620003</td>\n",
       "      <td>34.090000</td>\n",
       "      <td>85.870003</td>\n",
       "      <td>72.320000</td>\n",
       "      <td>110.000000</td>\n",
       "      <td>193.339996</td>\n",
       "      <td>47.270000</td>\n",
       "      <td>75.750000</td>\n",
       "      <td>87.360001</td>\n",
       "    </tr>\n",
       "    <tr>\n",
       "      <th>2</th>\n",
       "      <td>75.989998</td>\n",
       "      <td>118.510002</td>\n",
       "      <td>84.500000</td>\n",
       "      <td>24.430000</td>\n",
       "      <td>124.070000</td>\n",
       "      <td>59.319997</td>\n",
       "      <td>64.449997</td>\n",
       "      <td>24.230000</td>\n",
       "      <td>162.309998</td>\n",
       "      <td>75.519997</td>\n",
       "      <td>...</td>\n",
       "      <td>28.490000</td>\n",
       "      <td>77.720001</td>\n",
       "      <td>34.049999</td>\n",
       "      <td>85.980003</td>\n",
       "      <td>71.980003</td>\n",
       "      <td>109.260002</td>\n",
       "      <td>191.559998</td>\n",
       "      <td>46.950001</td>\n",
       "      <td>74.650002</td>\n",
       "      <td>87.139999</td>\n",
       "    </tr>\n",
       "    <tr>\n",
       "      <th>3</th>\n",
       "      <td>76.320000</td>\n",
       "      <td>119.379997</td>\n",
       "      <td>84.199997</td>\n",
       "      <td>23.770000</td>\n",
       "      <td>123.489998</td>\n",
       "      <td>59.509996</td>\n",
       "      <td>65.239998</td>\n",
       "      <td>24.250000</td>\n",
       "      <td>162.289993</td>\n",
       "      <td>76.070000</td>\n",
       "      <td>...</td>\n",
       "      <td>28.520000</td>\n",
       "      <td>78.050003</td>\n",
       "      <td>34.230000</td>\n",
       "      <td>85.830002</td>\n",
       "      <td>72.160004</td>\n",
       "      <td>109.660004</td>\n",
       "      <td>193.559998</td>\n",
       "      <td>47.669998</td>\n",
       "      <td>74.620003</td>\n",
       "      <td>87.070000</td>\n",
       "    </tr>\n",
       "    <tr>\n",
       "      <th>4</th>\n",
       "      <td>75.889999</td>\n",
       "      <td>118.739998</td>\n",
       "      <td>83.800003</td>\n",
       "      <td>23.330000</td>\n",
       "      <td>122.639999</td>\n",
       "      <td>59.009995</td>\n",
       "      <td>65.190002</td>\n",
       "      <td>24.049999</td>\n",
       "      <td>159.850006</td>\n",
       "      <td>75.959999</td>\n",
       "      <td>...</td>\n",
       "      <td>28.879999</td>\n",
       "      <td>77.209999</td>\n",
       "      <td>33.980000</td>\n",
       "      <td>85.410004</td>\n",
       "      <td>71.989998</td>\n",
       "      <td>109.360001</td>\n",
       "      <td>193.050003</td>\n",
       "      <td>47.000000</td>\n",
       "      <td>74.360001</td>\n",
       "      <td>86.900002</td>\n",
       "    </tr>\n",
       "  </tbody>\n",
       "</table>\n",
       "<p>5 rows × 30 columns</p>\n",
       "</div>"
      ],
      "text/plain": [
       "         AXP          BA        CAT       CSCO         CVX         DD  \\\n",
       "0  76.440002  117.510002  85.029999  24.270000  125.519997  59.409999   \n",
       "1  76.070000  119.000000  85.110001  24.139999  124.489998  59.319997   \n",
       "2  75.989998  118.510002  84.500000  24.430000  124.070000  59.319997   \n",
       "3  76.320000  119.379997  84.199997  23.770000  123.489998  59.509996   \n",
       "4  75.889999  118.739998  83.800003  23.330000  122.639999  59.009995   \n",
       "\n",
       "         DIS         GE          GS         HD    ...            PFE  \\\n",
       "0  64.750000  24.280001  165.250000  75.910004    ...      28.799999   \n",
       "1  64.320000  24.320000  162.970001  76.040001    ...      28.709999   \n",
       "2  64.449997  24.230000  162.309998  75.519997    ...      28.490000   \n",
       "3  65.239998  24.250000  162.289993  76.070000    ...      28.520000   \n",
       "4  65.190002  24.049999  159.850006  75.959999    ...      28.879999   \n",
       "\n",
       "          PG          T        TRV        UNH         UTX           V  \\\n",
       "0  79.279999  34.220001  86.379997  71.820000  109.419998  196.240005   \n",
       "1  78.620003  34.090000  85.870003  72.320000  110.000000  193.339996   \n",
       "2  77.720001  34.049999  85.980003  71.980003  109.260002  191.559998   \n",
       "3  78.050003  34.230000  85.830002  72.160004  109.660004  193.559998   \n",
       "4  77.209999  33.980000  85.410004  71.989998  109.360001  193.050003   \n",
       "\n",
       "          VZ        WMT        XOM  \n",
       "0  47.980000  76.419998  87.750000  \n",
       "1  47.270000  75.750000  87.360001  \n",
       "2  46.950001  74.650002  87.139999  \n",
       "3  47.669998  74.620003  87.070000  \n",
       "4  47.000000  74.360001  86.900002  \n",
       "\n",
       "[5 rows x 30 columns]"
      ]
     },
     "execution_count": 117,
     "metadata": {},
     "output_type": "execute_result"
    }
   ],
   "source": [
    "data_prices = pd.read_csv('close_prices.csv')\n",
    "prices, _ = data_target(data_prices)\n",
    "prices.head()"
   ]
  },
  {
   "cell_type": "code",
   "execution_count": 118,
   "metadata": {
    "collapsed": false
   },
   "outputs": [
    {
     "data": {
      "text/plain": [
       "<matplotlib.axes.AxesSubplot at 0x112c6d3d0>"
      ]
     },
     "execution_count": 118,
     "metadata": {},
     "output_type": "execute_result"
    },
    {
     "data": {
      "image/png": "[encoded data removed]",
      "text/plain": [
       "<matplotlib.figure.Figure at 0x1131fb8d0>"
      ]
     },
     "metadata": {},
     "output_type": "display_data"
    }
   ],
   "source": [
    "dj = pd.read_csv('djia_index.csv')\n",
    "dj.plot()"
   ]
  },
  {
   "cell_type": "code",
   "execution_count": 119,
   "metadata": {
    "collapsed": false
   },
   "outputs": [
    {
     "data": {
      "text/plain": [
       "PCA(copy=True, n_components=10, whiten=False)"
      ]
     },
     "execution_count": 119,
     "metadata": {},
     "output_type": "execute_result"
    }
   ],
   "source": [
    "pca = PCA(n_components = 10)\n",
    "pca.fit(prices)"
   ]
  },
  {
   "cell_type": "code",
   "execution_count": null,
   "metadata": {
    "collapsed": false
   },
   "outputs": [],
   "source": []
  },
  {
   "cell_type": "code",
   "execution_count": 120,
   "metadata": {
    "collapsed": false
   },
   "outputs": [
    {
     "data": {
      "text/plain": [
       "[0, 15, 0, 1]"
      ]
     },
     "execution_count": 120,
     "metadata": {},
     "output_type": "execute_result"
    },
    {
     "data": {
      "image/png": "[encoded data removed]",
      "text/plain": [
       "<matplotlib.figure.Figure at 0x10c90d1d0>"
      ]
     },
     "metadata": {},
     "output_type": "display_data"
    }
   ],
   "source": [
    "VR = pca.explained_variance_ratio_\n",
    "pp.bar(np.arange(len(VR)), VR)\n",
    "pp.axis([0, 15, 0, 1])"
   ]
  },
  {
   "cell_type": "code",
   "execution_count": 130,
   "metadata": {
    "collapsed": false
   },
   "outputs": [
    {
     "name": "stdout",
     "output_type": "stream",
     "text": [
      "0 0.739 0.738971\n",
      "1 0.849 0.110072\n",
      "2 0.899 0.049951\n",
      "3 0.928 0.028749\n",
      "save 2_1 : 4\n"
     ]
    }
   ],
   "source": [
    "vr_sum = 0\n",
    "for i in range(len(VR)):\n",
    "    vr_sum += VR[i]\n",
    "    print \"%i %.3f %f\" % (i, vr_sum, VR[i])\n",
    "    if vr_sum >= .9:\n",
    "        save(\"2_1\", str(i+1))\n",
    "        break"
   ]
  },
  {
   "cell_type": "code",
   "execution_count": null,
   "metadata": {
    "collapsed": false
   },
   "outputs": [],
   "source": []
  },
  {
   "cell_type": "code",
   "execution_count": 129,
   "metadata": {
    "collapsed": false
   },
   "outputs": [
    {
     "name": "stdout",
     "output_type": "stream",
     "text": [
      "save 2_2 : 0.91\n"
     ]
    }
   ],
   "source": [
    "prices_pca = pca.transform(prices)\n",
    "C = np.corrcoef(prices_pca[:, 0], dj.DJI)\n",
    "save(\"2_2\", \"%.2f\" % (C[0,1]))"
   ]
  },
  {
   "cell_type": "code",
   "execution_count": 95,
   "metadata": {
    "collapsed": false
   },
   "outputs": [
    {
     "name": "stdout",
     "output_type": "stream",
     "text": [
      "save 2_3 : V\n"
     ]
    }
   ],
   "source": [
    "index = pca.components_[0].argmax()\n",
    "save(\"2_3\", prices.axes[1][index])"
   ]
  },
  {
   "cell_type": "code",
   "execution_count": null,
   "metadata": {
    "collapsed": true
   },
   "outputs": [],
   "source": []
  }
 ],
 "metadata": {
  "kernelspec": {
   "display_name": "Python 2",
   "language": "python",
   "name": "python2"
  },
  "language_info": {
   "codemirror_mode": {
    "name": "ipython",
    "version": 2
   },
   "file_extension": ".py",
   "mimetype": "text/x-python",
   "name": "python",
   "nbconvert_exporter": "python",
   "pygments_lexer": "ipython2",
   "version": "2.7.10"
  }
 },
 "nbformat": 4,
 "nbformat_minor": 0
}
